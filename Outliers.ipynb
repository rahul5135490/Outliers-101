{
 "cells": [
  {
   "cell_type": "markdown",
   "id": "628fa949",
   "metadata": {},
   "source": [
    "Outliers causes variuos causes to the statistical analysis and may also cause significant event on mean and standard deviation of the datasets"
   ]
  },
  {
   "cell_type": "markdown",
   "id": "3a2acd41",
   "metadata": {},
   "source": [
    "# Ways to find the outliers\n",
    "1.using scatter plot\n",
    "2.box plot\n",
    "3.Using Z score\n",
    "4.Using interquartile range"
   ]
  },
  {
   "cell_type": "code",
   "execution_count": 1,
   "id": "6e096e8d",
   "metadata": {},
   "outputs": [],
   "source": [
    "datasets=[11,12,14,15,25,102,17,189,107,10,12,13,15,16,25,56,12,14,16,17,18,12,13,14,15,16,18,25,250,300,267]"
   ]
  },
  {
   "cell_type": "markdown",
   "id": "e32dc967",
   "metadata": {},
   "source": [
    "Detecting the functions using outliers"
   ]
  },
  {
   "cell_type": "code",
   "execution_count": 2,
   "id": "f1079d43",
   "metadata": {},
   "outputs": [],
   "source": [
    "import numpy as np\n",
    "import pandas as pd\n",
    "import matplotlib.pyplot as plt\n",
    "%matplotlib inline"
   ]
  },
  {
   "cell_type": "code",
   "execution_count": 3,
   "id": "665ea905",
   "metadata": {},
   "outputs": [],
   "source": [
    "outliers=[]\n",
    "def detect_outliers(data):\n",
    "    \n",
    "    threshold=3\n",
    "    mean=np.mean(data)\n",
    "    std=np.std(data)\n",
    "    \n",
    "    for i in data:\n",
    "        z_score=(i-mean)/std\n",
    "        if np.abs(z_score)>threshold:\n",
    "            outliers.append(i)\n",
    "    return outliers\n",
    "    "
   ]
  },
  {
   "cell_type": "code",
   "execution_count": 4,
   "id": "c27cbc49",
   "metadata": {},
   "outputs": [],
   "source": [
    "outlier_pt=detect_outliers(datasets)"
   ]
  },
  {
   "cell_type": "code",
   "execution_count": 5,
   "id": "c4f569ba",
   "metadata": {},
   "outputs": [
    {
     "data": {
      "text/plain": [
       "[300]"
      ]
     },
     "execution_count": 5,
     "metadata": {},
     "output_type": "execute_result"
    }
   ],
   "source": [
    "outlier_pt"
   ]
  },
  {
   "cell_type": "code",
   "execution_count": 6,
   "id": "aec54a06",
   "metadata": {},
   "outputs": [],
   "source": [
    "# Through interquartile range\n",
    "# Short the datasets"
   ]
  },
  {
   "cell_type": "code",
   "execution_count": 7,
   "id": "7e29928c",
   "metadata": {},
   "outputs": [
    {
     "data": {
      "text/plain": [
       "[10,\n",
       " 11,\n",
       " 12,\n",
       " 12,\n",
       " 12,\n",
       " 12,\n",
       " 13,\n",
       " 13,\n",
       " 14,\n",
       " 14,\n",
       " 14,\n",
       " 15,\n",
       " 15,\n",
       " 15,\n",
       " 16,\n",
       " 16,\n",
       " 16,\n",
       " 17,\n",
       " 17,\n",
       " 18,\n",
       " 18,\n",
       " 25,\n",
       " 25,\n",
       " 25,\n",
       " 56,\n",
       " 102,\n",
       " 107,\n",
       " 189,\n",
       " 250,\n",
       " 267,\n",
       " 300]"
      ]
     },
     "execution_count": 7,
     "metadata": {},
     "output_type": "execute_result"
    }
   ],
   "source": [
    "sorted(datasets)"
   ]
  },
  {
   "cell_type": "code",
   "execution_count": 8,
   "id": "60d972f2",
   "metadata": {},
   "outputs": [],
   "source": [
    "quantile1,quantile3=np.percentile(datasets,[25,75])"
   ]
  },
  {
   "cell_type": "code",
   "execution_count": 9,
   "id": "fb57d48d",
   "metadata": {},
   "outputs": [
    {
     "name": "stdout",
     "output_type": "stream",
     "text": [
      "13.5 25.0\n"
     ]
    }
   ],
   "source": [
    "print(quantile1,quantile3)"
   ]
  },
  {
   "cell_type": "code",
   "execution_count": 10,
   "id": "b7ae0262",
   "metadata": {},
   "outputs": [],
   "source": [
    "# Finding IQR range\n",
    "iqr_value=quantile3-quantile1"
   ]
  },
  {
   "cell_type": "code",
   "execution_count": 11,
   "id": "1b365b93",
   "metadata": {},
   "outputs": [
    {
     "name": "stdout",
     "output_type": "stream",
     "text": [
      "11.5\n"
     ]
    }
   ],
   "source": [
    "print(iqr_value)"
   ]
  },
  {
   "cell_type": "code",
   "execution_count": 12,
   "id": "3ed300d6",
   "metadata": {},
   "outputs": [],
   "source": [
    "lower_bound_val=quantile1-(1.5*iqr_value)\n",
    "upper_bound_val=quantile1+(1.5*iqr_value)"
   ]
  },
  {
   "cell_type": "code",
   "execution_count": 13,
   "id": "df3c2a86",
   "metadata": {},
   "outputs": [
    {
     "name": "stdout",
     "output_type": "stream",
     "text": [
      "-3.75 30.75\n"
     ]
    }
   ],
   "source": [
    "print(lower_bound_val,upper_bound_val)"
   ]
  },
  {
   "cell_type": "code",
   "execution_count": 14,
   "id": "fa1ef45a",
   "metadata": {},
   "outputs": [],
   "source": [
    "# Normalization and standardization"
   ]
  },
  {
   "cell_type": "code",
   "execution_count": 15,
   "id": "401ce727",
   "metadata": {},
   "outputs": [],
   "source": [
    "student={\"Class\":[1,1,1,1,1],\"Alcohol\":[14.23,13.20,13.26,14.37,13.24],\"Malic\":[1.71,1.72,1.75,1.87,2.95]}"
   ]
  },
  {
   "cell_type": "code",
   "execution_count": 16,
   "id": "a1884cf4",
   "metadata": {},
   "outputs": [],
   "source": [
    "df = pd.DataFrame(student)"
   ]
  },
  {
   "cell_type": "code",
   "execution_count": 17,
   "id": "1df85dc8",
   "metadata": {},
   "outputs": [
    {
     "data": {
      "text/html": [
       "<div>\n",
       "<style scoped>\n",
       "    .dataframe tbody tr th:only-of-type {\n",
       "        vertical-align: middle;\n",
       "    }\n",
       "\n",
       "    .dataframe tbody tr th {\n",
       "        vertical-align: top;\n",
       "    }\n",
       "\n",
       "    .dataframe thead th {\n",
       "        text-align: right;\n",
       "    }\n",
       "</style>\n",
       "<table border=\"1\" class=\"dataframe\">\n",
       "  <thead>\n",
       "    <tr style=\"text-align: right;\">\n",
       "      <th></th>\n",
       "      <th>Class</th>\n",
       "      <th>Alcohol</th>\n",
       "      <th>Malic</th>\n",
       "    </tr>\n",
       "  </thead>\n",
       "  <tbody>\n",
       "    <tr>\n",
       "      <th>0</th>\n",
       "      <td>1</td>\n",
       "      <td>14.23</td>\n",
       "      <td>1.71</td>\n",
       "    </tr>\n",
       "    <tr>\n",
       "      <th>1</th>\n",
       "      <td>1</td>\n",
       "      <td>13.20</td>\n",
       "      <td>1.72</td>\n",
       "    </tr>\n",
       "    <tr>\n",
       "      <th>2</th>\n",
       "      <td>1</td>\n",
       "      <td>13.26</td>\n",
       "      <td>1.75</td>\n",
       "    </tr>\n",
       "    <tr>\n",
       "      <th>3</th>\n",
       "      <td>1</td>\n",
       "      <td>14.37</td>\n",
       "      <td>1.87</td>\n",
       "    </tr>\n",
       "    <tr>\n",
       "      <th>4</th>\n",
       "      <td>1</td>\n",
       "      <td>13.24</td>\n",
       "      <td>2.95</td>\n",
       "    </tr>\n",
       "  </tbody>\n",
       "</table>\n",
       "</div>"
      ],
      "text/plain": [
       "   Class  Alcohol  Malic\n",
       "0      1    14.23   1.71\n",
       "1      1    13.20   1.72\n",
       "2      1    13.26   1.75\n",
       "3      1    14.37   1.87\n",
       "4      1    13.24   2.95"
      ]
     },
     "execution_count": 17,
     "metadata": {},
     "output_type": "execute_result"
    }
   ],
   "source": [
    "df"
   ]
  },
  {
   "cell_type": "code",
   "execution_count": 18,
   "id": "ab7f7b19",
   "metadata": {},
   "outputs": [],
   "source": [
    "from sklearn.preprocessing import MinMaxScaler"
   ]
  },
  {
   "cell_type": "code",
   "execution_count": 19,
   "id": "05c63831",
   "metadata": {},
   "outputs": [],
   "source": [
    "scaling=MinMaxScaler()"
   ]
  },
  {
   "cell_type": "code",
   "execution_count": 20,
   "id": "db3ae22f",
   "metadata": {},
   "outputs": [
    {
     "data": {
      "text/plain": [
       "array([[0.88034188, 0.        ],\n",
       "       [0.        , 0.00806452],\n",
       "       [0.05128205, 0.03225806],\n",
       "       [1.        , 0.12903226],\n",
       "       [0.03418803, 1.        ]])"
      ]
     },
     "execution_count": 20,
     "metadata": {},
     "output_type": "execute_result"
    }
   ],
   "source": [
    "scaling.fit_transform(df[[\"Alcohol\",\"Malic\"]])"
   ]
  },
  {
   "cell_type": "code",
   "execution_count": 21,
   "id": "a1a6d37f",
   "metadata": {},
   "outputs": [],
   "source": [
    "# Standardization( Z score normalizations) it has the property that mean is equal to zero and standard deviation is equal to 1"
   ]
  },
  {
   "cell_type": "code",
   "execution_count": 22,
   "id": "adf41e53",
   "metadata": {},
   "outputs": [],
   "source": [
    "from sklearn.preprocessing import StandardScaler"
   ]
  },
  {
   "cell_type": "code",
   "execution_count": 23,
   "id": "152dc391",
   "metadata": {},
   "outputs": [],
   "source": [
    "scaling2=StandardScaler()"
   ]
  },
  {
   "cell_type": "code",
   "execution_count": 24,
   "id": "9e7116ef",
   "metadata": {},
   "outputs": [
    {
     "data": {
      "text/plain": [
       "array([[ 1.08615771, -0.60616949],\n",
       "       [-0.87654832, -0.5852671 ],\n",
       "       [-0.76221593, -0.52255991],\n",
       "       [ 1.35293328, -0.27173115],\n",
       "       [-0.80032673,  1.98572765]])"
      ]
     },
     "execution_count": 24,
     "metadata": {},
     "output_type": "execute_result"
    }
   ],
   "source": [
    "scaling2.fit_transform(df[[\"Alcohol\",\"Malic\"]])"
   ]
  },
  {
   "cell_type": "code",
   "execution_count": null,
   "id": "db1436d2",
   "metadata": {},
   "outputs": [],
   "source": []
  }
 ],
 "metadata": {
  "kernelspec": {
   "display_name": "Python 3 (ipykernel)",
   "language": "python",
   "name": "python3"
  },
  "language_info": {
   "codemirror_mode": {
    "name": "ipython",
    "version": 3
   },
   "file_extension": ".py",
   "mimetype": "text/x-python",
   "name": "python",
   "nbconvert_exporter": "python",
   "pygments_lexer": "ipython3",
   "version": "3.9.13"
  }
 },
 "nbformat": 4,
 "nbformat_minor": 5
}
